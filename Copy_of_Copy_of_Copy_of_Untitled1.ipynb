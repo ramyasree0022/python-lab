{
  "nbformat": 4,
  "nbformat_minor": 0,
  "metadata": {
    "colab": {
      "name": "Copy of Copy of Copy of Untitled1.ipynb",
      "provenance": [],
      "authorship_tag": "ABX9TyNvBwhktiy2SWdjI2esr7oU",
      "include_colab_link": true
    },
    "kernelspec": {
      "name": "python3",
      "display_name": "Python 3"
    },
    "language_info": {
      "name": "python"
    }
  },
  "cells": [
    {
      "cell_type": "markdown",
      "metadata": {
        "id": "view-in-github",
        "colab_type": "text"
      },
      "source": [
        "<a href=\"https://colab.research.google.com/github/ramyasree0022/python-lab/blob/main/Copy_of_Copy_of_Copy_of_Untitled1.ipynb\" target=\"_parent\"><img src=\"https://colab.research.google.com/assets/colab-badge.svg\" alt=\"Open In Colab\"/></a>"
      ]
    },
    {
      "cell_type": "code",
      "metadata": {
        "id": "Rne4rgJTXtCb"
      },
      "source": [
        ""
      ],
      "execution_count": null,
      "outputs": []
    },
    {
      "cell_type": "markdown",
      "metadata": {
        "id": "wT-EkGlnYA8a"
      },
      "source": [
        "  Nallari Ramya Sree\n",
        "  Redgno:-19A21A05A4\n",
        "  Section:- CSE-B"
      ]
    },
    {
      "cell_type": "markdown",
      "metadata": {
        "id": "sVtGjFXCYSX3"
      },
      "source": [
        " EXCERSICE-1\n",
        "A.WRITE PROGRAM IN INTERACTIVE,INTERPRETER,PYHON SCRIPT MODE.\n",
        "B.Write a program to purposefully raise Indentation Error and Correct it"
      ]
    },
    {
      "cell_type": "code",
      "metadata": {
        "colab": {
          "base_uri": "https://localhost:8080/"
        },
        "id": "AYMMonq4Yp4s",
        "outputId": "761c3c5f-e0b1-496a-9599-f2183307069f"
      },
      "source": [
        "  a=99\n",
        "b=88\n",
        "a,b=b,a\n",
        "print(a,b)"
      ],
      "execution_count": null,
      "outputs": [
        {
          "output_type": "stream",
          "text": [
            "88 99\n"
          ],
          "name": "stdout"
        }
      ]
    },
    {
      "cell_type": "code",
      "metadata": {
        "colab": {
          "base_uri": "https://localhost:8080/"
        },
        "id": "bi1bqudoY1YU",
        "outputId": "e084a812-118c-4fdd-8a82-370f3ac92704"
      },
      "source": [
        " a=input(\"enter a vlaue:\")\n",
        "b=input(\"enter b value:\")\n",
        "c=a+b;\n",
        "print(\"sum is \",c,sep=\"\\t\")\n",
        "c=int(a)+int(b)\n",
        "print(\"sum of {} and {} is : {}\".format(a,b,c))\n",
        "print(\"sum of %s and %s is:%d\"%(a,b,c))\n",
        "x=10\n",
        "y=113\n",
        "z=x+y;\n",
        "print(\"sum is\",z,sep='\\t' )"
      ],
      "execution_count": null,
      "outputs": [
        {
          "output_type": "stream",
          "text": [
            "enter a vlaue:6\n",
            "enter b value:9\n",
            "sum is \t69\n",
            "sum of 6 and 9 is : 15\n",
            "sum of 6 and 9 is:15\n",
            "sum is\t123\n"
          ],
          "name": "stdout"
        }
      ]
    },
    {
      "cell_type": "code",
      "metadata": {
        "colab": {
          "base_uri": "https://localhost:8080/"
        },
        "id": "Xc7ya_C-ZP25",
        "outputId": "aa9cd000-2d69-476b-a0ee-e4713184fc0e"
      },
      "source": [
        " print(\"welcome to python\")\n",
        "a=20\n",
        "b=30\n",
        "print(\"the value of a:\",a)\n",
        "print(\"the value of b :\",b)\n",
        "if(a>b):\n",
        "       print(\"a is big\");\n",
        "       print(\"ifbblock ends\")\n",
        "else:\n",
        "            print(\"b is big\")\n",
        "            print(\"elseblock ends\")"
      ],
      "execution_count": null,
      "outputs": [
        {
          "output_type": "stream",
          "text": [
            "welcome to python\n",
            "the value of a: 20\n",
            "the value of b : 30\n",
            "b is big\n",
            "elseblock ends\n"
          ],
          "name": "stdout"
        }
      ]
    },
    {
      "cell_type": "markdown",
      "metadata": {
        "id": "pFzt-hvkZY60"
      },
      "source": [
        "   EXERCISE-2\n",
        "A.COMPUTE DISTANCE BETWEEN TWO POINTS\n",
        "B.TAKE TWO NUMBERS ON COMMAND LINE ARGUMENTS AND PRINT THE SUM."
      ]
    },
    {
      "cell_type": "code",
      "metadata": {
        "colab": {
          "base_uri": "https://localhost:8080/"
        },
        "id": "woOC96r_ZhP-",
        "outputId": "276a6f6c-cd28-4f04-9a73-84353377e9eb"
      },
      "source": [
        " x1=15\n",
        "x2=70\n",
        "y1=10\n",
        "y2=20\n",
        "z=(pow((x2-x1),2)+pow((y2-y1),2))**0.5\n",
        "print(z)"
      ],
      "execution_count": null,
      "outputs": [
        {
          "output_type": "stream",
          "text": [
            "55.90169943749474\n"
          ],
          "name": "stdout"
        }
      ]
    },
    {
      "cell_type": "code",
      "metadata": {
        "colab": {
          "base_uri": "https://localhost:8080/"
        },
        "id": "RC3O5Xv9ZmNo",
        "outputId": "c5ce3211-cdea-486a-d718-d801e7f3cd6b"
      },
      "source": [
        " import math\n",
        "x1=int(input(\"enter  x1 value:\"))\n",
        "x2=int(input(\"enter  x2 value:\"))\n",
        "y1=int(input(\"enter  y1 value:\"))\n",
        "y2=int(input(\"enter  y2 value:\"))\n",
        "z=math.sqrt((x2-x1)**2+(y2-y1)**2)\n",
        "print(\"the distance between two points is :\",z)\n",
        "print(\"the distance between two points is :\",z,sep='\\t')\n",
        "print(\"the distance between ({}, {})and ({},{}) is  :{}\".format(x1,y1,x2,y2,z))\n",
        " \n",
        "print(\"the distance between (%d, %d)and (%d,%d) is  :%f\"%(x1,y1,x2,y2,z))"
      ],
      "execution_count": null,
      "outputs": [
        {
          "output_type": "stream",
          "text": [
            "enter  x1 value:10\n",
            "enter  x2 value:20\n",
            "enter  y1 value:30\n",
            "enter  y2 value:40\n",
            "the distance between two points is : 14.142135623730951\n",
            "the distance between two points is :\t14.142135623730951\n",
            "the distance between (10, 30)and (20,40) is  :14.142135623730951\n",
            "the distance between (10, 30)and (20,40) is  :14.142136\n"
          ],
          "name": "stdout"
        }
      ]
    },
    {
      "cell_type": "code",
      "metadata": {
        "id": "4ChmgZhpZwX4"
      },
      "source": [
        " import sys\n",
        "a=sys.argv[1]\n",
        "b=sys.argv[2]\n",
        "sum=int(a)+int(b)\n",
        "print(\"summ of two number is:\",sum)"
      ],
      "execution_count": null,
      "outputs": []
    },
    {
      "cell_type": "markdown",
      "metadata": {
        "id": "KzMdYsnvZzaG"
      },
      "source": [
        "   EXCERSCISE-3\n",
        "A) Write a Program for checking whether the given number is an even number or not.\n",
        "b) Using a for loop, write a program that prints out the decimal equivalents of 1/2, 1/3, 1/4, . . .1/10\n",
        "c) Write a program using a for loop that loops over a sequence. What is sequence?\n",
        "d) Write a program using a while loop that asks the user for a number, and prints a countdownfrom that number to zero"
      ]
    },
    {
      "cell_type": "code",
      "metadata": {
        "colab": {
          "base_uri": "https://localhost:8080/"
        },
        "id": "qT32wU3KZ6zO",
        "outputId": "1e2e4e8f-f457-4d10-853c-8d1298a6e7bf"
      },
      "source": [
        " n=int(input(\"enter a number:\"))\n",
        "if (n%2)==0:\n",
        "        print(\"given number is even\")\n",
        "else:\n",
        "      print(\"given number is odd\")"
      ],
      "execution_count": null,
      "outputs": [
        {
          "output_type": "stream",
          "text": [
            "enter a number:6\n",
            "given number is even\n"
          ],
          "name": "stdout"
        }
      ]
    },
    {
      "cell_type": "code",
      "metadata": {
        "id": "5Rz2SDVQaCcE"
      },
      "source": [
        " n=int(input(\"enter a number:\"))\n",
        "for i in range(2,n):\n",
        "    de=1/i;\n",
        "    print(\"1/\",i,\"=\",de)"
      ],
      "execution_count": null,
      "outputs": []
    },
    {
      "cell_type": "code",
      "metadata": {
        "id": "OvR7-ZXTaGf0"
      },
      "source": [
        " #program using a for a loop that loops over a sequence\n",
        "print(\"loop sequence\")\n",
        "num=[45,25,2,28,3,25]\n",
        "for i in num:\n",
        "    print(i)\n",
        " \n",
        "#string sequence\n",
        "print(\"string sequence\")\n",
        "days=[\"sun\",\"mon\",\"tue\",\"wed\",\"thur\",\"fri\",\"st\"]\n",
        "for d in days:\n",
        "    print(d)\n",
        "    \n",
        "#bothh sequence\n",
        "print(\"sequence\")\n",
        "arr=[123,\"abc\",5.6,'h',-33,\"xy\",True]\n",
        "for x in arr:\n",
        "      print(x)"
      ],
      "execution_count": null,
      "outputs": []
    },
    {
      "cell_type": "code",
      "metadata": {
        "id": "jPZ3OlDGaLrb"
      },
      "source": [
        " #countdown seq\n",
        "n=int(input(\"enter the numbr:\"))\n",
        "while n>0:\n",
        "      print(n)\n",
        "      n=n-1"
      ],
      "execution_count": null,
      "outputs": []
    },
    {
      "cell_type": "markdown",
      "metadata": {
        "id": "mkRb_rO-aWBZ"
      },
      "source": [
        "   EXCERCISE-4\n",
        "a) Find the sum of all the primes below two million. Each new term in the Fibonacci sequence is generated by adding the previous two terms. Bystarting with 1 and 2, the first 10 terms will be: 1, 2, 3, 5, 8, 13, 21, 34, 55, 89, ...\n",
        "b) By considering the terms in the Fibonacci sequence whose values do not exceed four million,find the sum of the even-valued terms."
      ]
    },
    {
      "cell_type": "code",
      "metadata": {
        "id": "-D6cEDd1aYbV"
      },
      "source": [
        " n=int(input(\"enter a num:\"))\n",
        "a=0\n",
        "b=1\n",
        "c=a+b\n",
        "st=\"\"\n",
        "sum=0\n",
        "con=0\n",
        "while con<=n:\n",
        "    st+=\"\"+str(c)\n",
        "    sum+=c        \n",
        "    a=b\n",
        "    b=c \n",
        "    c=a+b\n",
        "    con+=1\n",
        "print(st)\n",
        "print(\"sum of fibonacii series:\",sum)"
      ],
      "execution_count": null,
      "outputs": []
    },
    {
      "cell_type": "code",
      "metadata": {
        "id": "NVhSbxPpacdt"
      },
      "source": [
        " n=int(input(\"enter a number:\"))\n",
        "c=0\n",
        " \n",
        " \n",
        "st=\"\"\n",
        "sum=0\n",
        " \n",
        "for i in range(2,n):\n",
        " state=True\n",
        "for j in range(2,i):\n",
        " if(i%j==0):\n",
        "        state=False\n",
        "        break;\n",
        "if state==True:\n",
        "            st+=\"\"+str(i)\n",
        "            c+=1\n",
        "            sum+=i\n",
        " \n",
        "print(\"prime numbers\")\n",
        "print(st)\n",
        " \n",
        "print(\"total count of the prime numbers:\",c)\n",
        "print(\"sum of all prime nums:\",sum)"
      ],
      "execution_count": null,
      "outputs": []
    },
    {
      "cell_type": "markdown",
      "metadata": {
        "id": "l9geNeJgagxD"
      },
      "source": [
        " EXCERCISE-5\n",
        "DS\n",
        "a) Write a program to count the numbers of characters in the string and store them in adictionary data structure\n",
        "b) Write a program to use split and join methods in the string and trace a birthday with adictionary data structure."
      ]
    },
    {
      "cell_type": "code",
      "metadata": {
        "id": "f4YENY0NanzB"
      },
      "source": [
        " name=input(\"enter a name:\")\n",
        "dic={}\n",
        "for ch in name:\n",
        "    keys=dic.keys()\n",
        " \n",
        "    if(ch in keys):\n",
        "        dic[ch]=dic[ch]+1\n",
        "    else:\n",
        "        dic[ch]=1\n",
        " \n",
        "print(\"dictinarry is:\",dic)"
      ],
      "execution_count": null,
      "outputs": []
    },
    {
      "cell_type": "code",
      "metadata": {
        "id": "H8l_ShUkapDi"
      },
      "source": [
        " dob={\"Ramya\":\"22-01-2001\",\"Vijay\":\"04-07-1999\"}\n",
        "name=input(\"enter which person dob u want:\")\n",
        "l=name.split()\n",
        "birth=\"\"\n",
        "for i in l:\n",
        "    if i in dob.keys():\n",
        "        pers=i\n",
        " \n",
        "print(\"\".join([pers,\"birthdayis:\",dob[pers]]))"
      ],
      "execution_count": null,
      "outputs": []
    },
    {
      "cell_type": "markdown",
      "metadata": {
        "id": "8NlU9if8a8BH"
      },
      "source": [
        " EXERCISE-6\n",
        "DS - Continued\n",
        "a) Write a program combinelists that combines these lists into a dictionary.\n",
        "b) Write a program to count frequency of characters in a given file. Can you use character frequency to tell whether the given file is a Python program file, C program file or a text file?"
      ]
    },
    {
      "cell_type": "code",
      "metadata": {
        "id": "HOnn3UkXa9qG"
      },
      "source": [
        " sub=[\"daa\",\"os\",\"dbms\",\"p&s\",\"ppl\",\"se\"]\n",
        "marks=[85,96,75,65,83,56]\n",
        "print(sub)\n",
        "print(marks)\n",
        "dic=dict(zip(sub,marks))\n",
        "print(dic)"
      ],
      "execution_count": null,
      "outputs": []
    },
    {
      "cell_type": "code",
      "metadata": {
        "id": "zY8RvmMBbA9T"
      },
      "source": [
        " filetypes=['.py','.c','.txt']\n",
        "fn=input(\"enter a fikle name:\")\n",
        "f=open(fn,\"r\")\n",
        "count=dict()\n",
        "for  ft in filetypes:\n",
        "     if(ft in  fn):\n",
        "           if(ft==\".py\"):\n",
        "             print(\"python file\")\n",
        "           elif(ft==\".c\"):\n",
        "             print(\"cfile\")\n",
        "           elif(ft==\".txt\"):\n",
        "             print(\"text file\")\n",
        " \n",
        " \n",
        "for line in f:\n",
        "     for ch in line:\n",
        "          if ch in count:\n",
        "               count[ch]=count[ch]+1\n",
        " \n",
        "          else:\n",
        "              count[ch]=1\n",
        " \n",
        " \n",
        "print(count)\n",
        "f.close()"
      ],
      "execution_count": null,
      "outputs": []
    },
    {
      "cell_type": "code",
      "metadata": {
        "id": "IGTOtNtdbVwC"
      },
      "source": [
        ""
      ],
      "execution_count": null,
      "outputs": []
    },
    {
      "cell_type": "markdown",
      "metadata": {
        "id": "DcszEz0ZbF7x"
      },
      "source": [
        " EXCERCISE-7\n",
        "   7 files\n",
        "  a) Write a program to print each line of a file in reverse order.\n",
        "  b) Write a program to compute the number of characters, words and lines in a file."
      ]
    },
    {
      "cell_type": "markdown",
      "metadata": {
        "id": "8s6OD6dOX9AM"
      },
      "source": [
        ""
      ]
    },
    {
      "cell_type": "code",
      "metadata": {
        "id": "9H_RCoiRbYiU"
      },
      "source": [
        " obj=open(\"sam.txt\",\"r\")\n",
        "if obj:\n",
        "    st=obj.read()\n",
        "    print(\"file content is:\")\n",
        "obj.close()\n",
        "print()\n",
        "lines=st.split('\\n')\n",
        "for ln in lines:\n",
        "    i=len(ln)-1\n",
        "    while(i>=0):\n",
        "      print(ln[i],end='')\n",
        "      i=i-1\n",
        "    print()"
      ],
      "execution_count": null,
      "outputs": []
    },
    {
      "cell_type": "code",
      "metadata": {
        "id": "-fQzTrE0bdv3"
      },
      "source": [
        " obj=open(\"sam.txt\",\"r\")\n",
        "if obj:\n",
        "    st=obj.read()\n",
        "    print(\"file content is:\")\n",
        "obj.close()\n",
        "print()\n",
        "nc=nw=nl=0\n",
        "for ch in st:\n",
        "    if(ch):\n",
        "        nc=nc+1\n",
        "    if(ch==''):\n",
        "        nw=nw+1\n",
        "    if(ch=='\\n'):\n",
        "        nl=nl+1\n",
        " \n",
        "print(\"number of characters in a file:\",nc)\n",
        "print(\"number of words in file is:\",nw)\n",
        "print(\"number of lines ins file:\",nl)"
      ],
      "execution_count": null,
      "outputs": []
    },
    {
      "cell_type": "markdown",
      "metadata": {
        "id": "8_7Gdbvtbi32"
      },
      "source": [
        "   EXCERCISE-8"
      ]
    },
    {
      "cell_type": "markdown",
      "metadata": {
        "id": "sqAmYMWTbnsG"
      },
      "source": [
        "   8 Functions'"
      ]
    },
    {
      "cell_type": "markdown",
      "metadata": {
        "id": "INOr7vMYbtmc"
      },
      "source": [
        " a) Write a function ball collide that takes two balls as parameters and computes if they arecolliding. Your function should return a Boolean representing whether or not the balls arecolliding. Hint: Represent a ball on a plane as a tuple of (x, y, r), r being the radius If (distance between two balls centers) <= (sum of their radii) then (they are colliding)"
      ]
    },
    {
      "cell_type": "markdown",
      "metadata": {
        "id": "1liXzEY7bxwm"
      },
      "source": [
        " b) Find mean, median, mode for the given set of numbers in a list."
      ]
    },
    {
      "cell_type": "code",
      "metadata": {
        "id": "icWrpra1b1w9"
      },
      "source": [
        " import math\n",
        "def ballcollide(b1tup,b2tup):\n",
        "    x1=b1tup[0]\n",
        "    y1=b1tup[1]\n",
        "    x2=b2tup[0]\n",
        "    y2=b2tup[1]\n",
        "    r1=b1tup[2]\n",
        "    r2=b2tup[2]\n",
        " \n",
        " \n",
        "    d=math.sqrt((x2-x1)**2+(y2-y1)**2)\n",
        "    if(d<=r1+r2):\n",
        "      return True\n",
        "    else:\n",
        "        return False\n",
        " \n",
        " \n",
        "ball1=(1,2,3)\n",
        "ball2=(3,2,1)\n",
        "c=ballcollide(ball1,ball2)\n",
        "if(c):\n",
        "    print(\"balls are collided\")\n",
        "else:\n",
        "    print(\"ball are not collided\")"
      ],
      "execution_count": null,
      "outputs": []
    },
    {
      "cell_type": "code",
      "metadata": {
        "id": "abxI9aXRb794"
      },
      "source": [
        " def mean(numlist):\n",
        "    return sum(numlist)/len(numlist)\n",
        "def median(numlist):\n",
        "    numlist.sort()\n",
        "    print(numlist)\n",
        "    n=len(numlist)\n",
        "    print(\"total\",n)\n",
        "    mid=n//2\n",
        "    print(\"mid:\",mid)\n",
        "    if(n%2==0):\n",
        "        return numlist[mid]\n",
        "    else:\n",
        "        return (numlist[mid-1]+numlist[mid])/2\n",
        "def mode(numlist):\n",
        "    numlist.sort()\n",
        "    temp=[]\n",
        "    i=0\n",
        "    while i<len(numlist):\n",
        "        temp.append(numlist.count(numlist[i]))\n",
        "        i+=1\n",
        "    dic=dict(zip(numlist,temp))\n",
        "    modes={k for k, v in dic.items() if(v==max(temp))}\n",
        "    return modes\n",
        "list=[1,1,2,2,3,4,5,3,3]\n",
        "print(\"mean of guive list:\",mean(list))\n",
        "print(\"median of guive list:\",median(list))\n",
        " \n",
        "print(\"mode of guive list:\",mode(list))"
      ],
      "execution_count": null,
      "outputs": []
    },
    {
      "cell_type": "markdown",
      "metadata": {
        "id": "PQIOJX3xcCSW"
      },
      "source": [
        " Exercise - 9"
      ]
    },
    {
      "cell_type": "markdown",
      "metadata": {
        "id": "5Sw6tcLxcFid"
      },
      "source": [
        " Functions - Continued"
      ]
    },
    {
      "cell_type": "markdown",
      "metadata": {
        "id": "-cEH3PoOcIqX"
      },
      "source": [
        " a) Write a function nearly equal to test whether two strings are nearly equal. Two strings a and bare nearly equal when a can be generated by a single mutation on b."
      ]
    },
    {
      "cell_type": "markdown",
      "metadata": {
        "id": "HX4aYy9TcLy0"
      },
      "source": [
        " b) Write a function dup to find all duplicates in the list."
      ]
    },
    {
      "cell_type": "markdown",
      "metadata": {
        "id": "JF5gQG7TcOjZ"
      },
      "source": [
        " c) Write a function unique to find all the unique elements of a list."
      ]
    },
    {
      "cell_type": "code",
      "metadata": {
        "id": "LznMDY4DcRqq"
      },
      "source": [
        " def nearlyeq(str1,str2):\n",
        "    count=0\n",
        "    i=j=0\n",
        "    ss=0\n",
        "    while(i<len(str1)and j<len(str2)):\n",
        "        if(str1[i]!=str2[j]):\n",
        "            count+=1\n",
        "        if(len(str1)>len(str2)):\n",
        "            i+=1\n",
        " \n",
        "        elif(len(str1)==len(str2)):\n",
        "            pass\n",
        "        else:\n",
        "            i-=1     \n",
        "        if(count>1):\n",
        "             ss-=1\n",
        "             \n",
        "        i+=1\n",
        "        j+=1\n",
        "        if(count<2):\n",
        "             ss+=1\n",
        " \n",
        "    return ss\n",
        "s1=input(\"enter a string 1:\")\n",
        "s2=input(\"enter the string2:\")\n",
        "t=nearlyeq(s1,s2)\n",
        "if(t>1):\n",
        "    print(\"neraly equal0\")\n",
        "else:\n",
        "    print(\"not nearly equal\")"
      ],
      "execution_count": null,
      "outputs": []
    },
    {
      "cell_type": "markdown",
      "metadata": {
        "id": "eK_QUn4acVsF"
      },
      "source": [
        ""
      ]
    },
    {
      "cell_type": "code",
      "metadata": {
        "id": "oqHY9963cWG6"
      },
      "source": [
        " def dup(list):\n",
        "  list1=[]\n",
        "  for i in list:\n",
        "    count=list.count(i)\n",
        "    if(count>1 and (i not in list1)):\n",
        "        list1.append(i)\n",
        "        \n",
        "  print(\"the dups int he list are:\",list1)        \n",
        "list2=[1,2,1,2]\n",
        " \n",
        "dup(list2)"
      ],
      "execution_count": null,
      "outputs": []
    },
    {
      "cell_type": "code",
      "metadata": {
        "id": "Fhufrpljca0t"
      },
      "source": [
        " def unique(list1):\n",
        "  list2={}\n",
        " \n",
        "  for i in list1:\n",
        "    c=list1.count(i)\n",
        "    if c==1:\n",
        "      list2[i]=c\n",
        "  print(\"the unique elements in the list are:\",list2)\n",
        " \n",
        "list=[1,2,3,45,45,6,88,88,9]\n",
        "unique(list)"
      ],
      "execution_count": null,
      "outputs": []
    },
    {
      "cell_type": "markdown",
      "metadata": {
        "id": "IuwFhly5ceu6"
      },
      "source": [
        " Exercise - 10"
      ]
    },
    {
      "cell_type": "markdown",
      "metadata": {
        "id": "6JEmBAhSchhG"
      },
      "source": [
        " Functions - Problem Solving"
      ]
    },
    {
      "cell_type": "markdown",
      "metadata": {
        "id": "k1NPJjaNckXY"
      },
      "source": [
        " a) Write a function cumulative product to compute cumulative product of a list of numbers."
      ]
    },
    {
      "cell_type": "markdown",
      "metadata": {
        "id": "EYw6Jjd8cot3"
      },
      "source": [
        " b) Write a function reverse to reverse a list. Without using the reverse function."
      ]
    },
    {
      "cell_type": "markdown",
      "metadata": {
        "id": "2-TNmWZxcsAj"
      },
      "source": [
        " c) Write function to compute gcd, lcm of two numbers. Each function shouldn’t exceed one line"
      ]
    },
    {
      "cell_type": "code",
      "metadata": {
        "id": "klJ3l94jcvvZ"
      },
      "source": [
        " def cumulative_product(list1,n):\n",
        "    list2=[]\n",
        "    i=0\n",
        "    list2.append(list1[i])\n",
        "    for i in range(1,n):\n",
        "        v=list1[i]*list2[i-1]\n",
        "        list2.append(v)\n",
        "        \n",
        "    print(list2)\n",
        "list3=[]\n",
        "n=int(input(\"enter size :\"))\n",
        "print(\"enter the data:\")\n",
        "for i in range(0,n):\n",
        "    x=int(input())\n",
        "    list3.append(x)\n",
        "cumulative_product(list3,n)"
      ],
      "execution_count": null,
      "outputs": []
    },
    {
      "cell_type": "code",
      "metadata": {
        "id": "bHCuG8BLczEN"
      },
      "source": [
        " def reverse_list(numlist):\n",
        "    temp=list1[::-1]\n",
        "    numlist=temp\n",
        "    return temp\n",
        "list1=[1,2,3,4]\n",
        "print(\"giiven list is :\",list1)\n",
        "print(\"after reverse function:\",reverse_list(list1))\n",
        "print(\"after list is:\",list1)"
      ],
      "execution_count": null,
      "outputs": []
    },
    {
      "cell_type": "code",
      "metadata": {
        "id": "JMLcPJBAc2cb",
        "colab": {
          "base_uri": "https://localhost:8080/"
        },
        "outputId": "d16a8274-4a3a-4b1f-91f7-6cdbac4563bb"
      },
      "source": [
        " gcd=lambda a,b: a if b==0 else gcd(a,a%b)\n",
        "lcm=lambda a,b: (a*b)/gcd(a,b)\n",
        " \n",
        "x=4\n",
        "y=24\n",
        "print(\"gcd=\",gcd(x,y))\n",
        "print(\"lcm=\",lcm(x,y))"
      ],
      "execution_count": null,
      "outputs": [
        {
          "output_type": "stream",
          "text": [
            "gcd= 4\n",
            "lcm= 24.0\n"
          ],
          "name": "stdout"
        }
      ]
    },
    {
      "cell_type": "markdown",
      "metadata": {
        "id": "z3NOVyogtqzR"
      },
      "source": [
        " Exercise-11"
      ]
    },
    {
      "cell_type": "markdown",
      "metadata": {
        "id": "shkpw7BHtunK"
      },
      "source": [
        " Multi-D-Lists"
      ]
    },
    {
      "cell_type": "markdown",
      "metadata": {
        "id": "moPQRuFEtxWE"
      },
      "source": [
        " a) write a program that defines a matrix and prints"
      ]
    },
    {
      "cell_type": "markdown",
      "metadata": {
        "id": "9yx5XwAkt1Nz"
      },
      "source": [
        " b) write a program to perform addition of two square matrices"
      ]
    },
    {
      "cell_type": "markdown",
      "metadata": {
        "id": "jWmTNVbNt4MQ"
      },
      "source": [
        " c) write a program to perform multiplication of two square matrices"
      ]
    },
    {
      "cell_type": "code",
      "metadata": {
        "colab": {
          "base_uri": "https://localhost:8080/"
        },
        "id": "9YEY_kFNt7oZ",
        "outputId": "6c5ca25d-9f9f-4434-efdf-6a673a1d2f7c"
      },
      "source": [
        " \n",
        "matA=[[]]\n",
        "rows=int(input(\"Enter row size of matrix: \"))\n",
        "cols=int(input(\"Enter column size of matrix: \"))\n",
        "matA=[[int(input(\"Enter[%d,%d] value: \"%(i,j)))for j in range(cols)]for i in range(rows)]\n",
        "print(\"matrix is: \")\n",
        "for i in range(rows):\n",
        "  for j in range(cols):\n",
        "    print(matA[i][j],end='\\t')\n",
        "  print()"
      ],
      "execution_count": null,
      "outputs": [
        {
          "output_type": "stream",
          "text": [
            "Enter row size of matrix: 2\n",
            "Enter column size of matrix: 2\n",
            "Enter[0,0] value: 4\n",
            "Enter[0,1] value: 5\n",
            "Enter[1,0] value: 4\n",
            "Enter[1,1] value: 5\n",
            "matrix is: \n",
            "4\t5\t\n",
            "4\t5\t\n"
          ],
          "name": "stdout"
        }
      ]
    },
    {
      "cell_type": "code",
      "metadata": {
        "colab": {
          "base_uri": "https://localhost:8080/"
        },
        "id": "IDQcDz4_uNnE",
        "outputId": "f506f346-7dae-41f8-8058-f20866ab3904"
      },
      "source": [
        " def matRead(r,c):\n",
        "  return[[int(input(\"[%d,%d]value:\"%(i,j)))for j in range(c)]for i in range(r)]\n",
        "def matDisp(mat,r,c):\n",
        "  for i in range(r):\n",
        "    for j in range(c):\n",
        "      print(mat[i][j],end='\\t')\n",
        "    print()\n",
        "matA=[[]]\n",
        "matB=[[]]       \n",
        "matSum=[[]]\n",
        "rows=int(input(\"Enter row size of the matrix: \"))\n",
        "cols=int(input(\"Enter column size of the matrix: \"))\n",
        "if rows==cols:\n",
        "  print(\"Enter Matrix-A elements: \")\n",
        "  matA=matRead(rows,cols)\n",
        " \n",
        "  print(\"Enter Matrix-B elements: \")\n",
        "  matB=matRead(rows,cols)\n",
        " \n",
        "  print(\"Matrix-A is: \")\n",
        "  matDisp(matA,rows,cols)\n",
        " \n",
        "  print(\"Matrix-B is: \")\n",
        "  matDisp(matB,rows,cols)\n",
        "  matSum=[[matA[i][j]+matB[i][j]for j in range(cols)]for i in range(rows)]\n",
        "  print(\"sum of matrices is: \")\n",
        "  matDisp(matSum,rows,cols)\n",
        "else:\n",
        "  print(\"Matrices addition is not possible\")"
      ],
      "execution_count": null,
      "outputs": [
        {
          "output_type": "stream",
          "text": [
            "Enter row size of the matrix: 2\n",
            "Enter column size of the matrix: 2\n",
            "Enter Matrix-A elements: \n",
            "[0,0]value:4\n",
            "[0,1]value:5\n",
            "[1,0]value:4\n",
            "[1,1]value:5\n",
            "Enter Matrix-B elements: \n",
            "[0,0]value:3\n",
            "[0,1]value:2\n",
            "[1,0]value:3\n",
            "[1,1]value:2\n",
            "Matrix-A is: \n",
            "4\t5\t\n",
            "4\t5\t\n",
            "Matrix-B is: \n",
            "3\t2\t\n",
            "3\t2\t\n",
            "sum of matrices is: \n",
            "7\t7\t\n",
            "7\t7\t\n"
          ],
          "name": "stdout"
        }
      ]
    },
    {
      "cell_type": "code",
      "metadata": {
        "colab": {
          "base_uri": "https://localhost:8080/"
        },
        "id": "HQuHEuCJug58",
        "outputId": "8541fcbe-f635-430c-cb03-21e33381b58c"
      },
      "source": [
        " def  matRead(r,c):  \n",
        "  return[[int(input(\"[%d,%d]value: \"%(i,j)))for j in range(c)]for i in range(r)]\n",
        "def matDisp(mat,r,c):\n",
        "  for i in range(r):\n",
        "    for j in range(c):\n",
        "      print(mat[i][j],end='\\t')\n",
        "matA=[[]]\n",
        "matB=[[]]\n",
        "matMul=[[]]\n",
        "rows=int(input(\"Enter row size of the Matrix: \"))\n",
        "cols=int(input(\"Enter column size of the Matrix: \"))\n",
        " \n",
        "if rows==cols:\n",
        "  print(\"Enter Matrix-A: \")\n",
        "  matA=matRead(rows,cols)\n",
        "  print(\" Enter Matrix-B: \")\n",
        "  matB=matRead(rows,cols)\n",
        " \n",
        "  matMul=[[0 for j in range(cols)]for i in range(rows)]\n",
        "  for i in range(rows):\n",
        "    for j in range(cols):\n",
        "      for k in range(cols):\n",
        "        matMul[i][j]+=matA[i][k]*matB[k][j]\n",
        "  print(\"Matrix-A is: \")\n",
        "  matDisp(matA,rows,cols)\n",
        " \n",
        "  print(\"Matrix-B is: \")\n",
        "  matDisp(matB,rows,cols)\n",
        " \n",
        "  print(\"Multiplication of matrices is: \")\n",
        "  matDisp(matMul,rows,cols)\n",
        "else:\n",
        "  print(\"Matrices Multiplication is not possible is\")"
      ],
      "execution_count": null,
      "outputs": [
        {
          "output_type": "stream",
          "text": [
            "Enter row size of the Matrix: 3\n",
            "Enter column size of the Matrix: 3\n",
            "Enter Matrix-A: \n",
            "[0,0]value: 1\n",
            "[0,1]value: 2\n",
            "[0,2]value: 3\n",
            "[1,0]value: 4\n",
            "[1,1]value: 5\n",
            "[1,2]value: 6\n",
            "[2,0]value: 7\n",
            "[2,1]value: 8\n",
            "[2,2]value: 9\n",
            " Enter Matrix-B: \n",
            "[0,0]value: 1\n",
            "[0,1]value: 2\n",
            "[0,2]value: 3\n",
            "[1,0]value: 4\n",
            "[1,1]value: 5\n",
            "[1,2]value: 6\n",
            "[2,0]value: 7\n",
            "[2,1]value: 8\n",
            "[2,2]value: 9\n",
            "Matrix-A is: \n",
            "1\t2\t3\t4\t5\t6\t7\t8\t9\tMatrix-B is: \n",
            "1\t2\t3\t4\t5\t6\t7\t8\t9\tMultiplication of matrices is: \n",
            "30\t36\t42\t66\t81\t96\t102\t126\t150\t"
          ],
          "name": "stdout"
        }
      ]
    },
    {
      "cell_type": "markdown",
      "metadata": {
        "id": "tpdiVQnwu-44"
      },
      "source": [
        " Exercise-12"
      ]
    },
    {
      "cell_type": "markdown",
      "metadata": {
        "id": "Vvkp6BXPvADp"
      },
      "source": [
        " Modules\n",
        "a) Install package requests,flasks and explore them.using(pip)"
      ]
    },
    {
      "cell_type": "markdown",
      "metadata": {
        "id": "fjH5StGHtZyn"
      },
      "source": [
        " 12A.\n",
        "The requests and flask packages are download from internet using the following commands.\n",
        "\n",
        "C:\\python3.9\\scripts>pip install requests\n",
        "\n",
        "C:\\python3.9\\scripts>pip show requests\n",
        "\n",
        "C:\\python3.9\\scripts>pip install flask\n",
        "\n",
        "C:\\python3.9\\scripts>pip show flask"
      ]
    },
    {
      "cell_type": "markdown",
      "metadata": {
        "id": "uilaseCqvDcG"
      },
      "source": [
        " b) write a script that imports requests and fetch content from the page.Eg(wiki)"
      ]
    },
    {
      "cell_type": "markdown",
      "metadata": {
        "id": "YBwQJuOQvHIY"
      },
      "source": [
        " c) write a simple script that serves a simple HTTPResponse and simple HTML page"
      ]
    },
    {
      "cell_type": "code",
      "metadata": {
        "colab": {
          "base_uri": "https://localhost:8080/"
        },
        "id": "C1VhIHbemZ6L",
        "outputId": "35928305-3db1-4a9d-a4df-149062eb8b9d"
      },
      "source": [
        " import requests\n",
        " \n",
        "r=requests.get('https://www.google.com')\n",
        " \n",
        "print(\"Statuscode:\",r.status_code)\n",
        " \n",
        "print(\"Header Content:\",r.headers['content-type'])\n",
        "print(r.text)"
      ],
      "execution_count": null,
      "outputs": [
        {
          "output_type": "stream",
          "text": [
            "Statuscode: 200\n",
            "Header Content: text/html; charset=ISO-8859-1\n",
            "<!doctype html><html itemscope=\"\" itemtype=\"http://schema.org/WebPage\" lang=\"en\"><head><meta content=\"Search the world's information, including webpages, images, videos and more. Google has many special features to help you find exactly what you're looking for.\" name=\"description\"><meta content=\"noodp\" name=\"robots\"><meta content=\"text/html; charset=UTF-8\" http-equiv=\"Content-Type\"><meta content=\"/images/branding/googleg/1x/googleg_standard_color_128dp.png\" itemprop=\"image\"><title>Google</title><script nonce=\"Ag66Rlos0nRgNa3BSa306w==\">(function(){window.google={kEI:'-Gb1YIiXLdTj-gSauaHgDQ',kEXPI:'0,772215,1,530320,56873,954,5104,207,4804,2316,383,246,5,1354,4936,314,6386,1116130,1197762,520,328985,51223,16115,28684,17572,4859,1361,9290,3023,17586,4020,978,13227,3848,3600,592,6430,1142,13385,4518,2777,919,6674,1279,2212,530,149,1103,840,1983,4314,109,3405,606,2023,1733,43,521,6342,8328,2269,1,958,2844,7,12354,5096,7876,5037,1483,1924,908,2,3555,3424,9286,432,3,1590,1,3371,2073,149,11323,2652,4,1528,2304,1238,5801,74,1983,2626,2015,4067,7434,3824,3050,2658,872,3370,3115,30,901,1,12726,1591,714,638,37,1457,5586,3772,4269,1724,770,665,5797,2560,992,3102,17,3121,6,908,3,3541,1,5349,8913,448,1,1813,283,912,5996,10615,1907,2,1394,756,769,8,1,1272,1715,2,3057,483,2055,1,2,2,3612,627,4,32,4,2237,2,3148,4,683,442,342,254,56,4,434,2377,93,30,520,1780,579,696,4578,2051,1646,173,5451,99,3,310,53,677,1160,1269,2597,828,3,399,1313,290,1442,32,59,666,180,1345,1,1374,3453,2,254,2,324,2,509,3,117,6,3972,635,743,13,1448,2432,1,12,3,1,687,38,585,236,228,1898,693,1,8,28,1,8,23,2184,120,395,70,922,1,2,317,672,11,6,124,899,1509,109,316,470,85,51,274,100,42,4,7,89,653,18,39,101,190,153,412,1531,296,54,6,1380,1067,507,207,2258,288,361,41,65,2170,1624,1251,5611788,189,5,32,220,59,5996809,2800697,882,444,1,2,80,1,1796,1,9,2,2551,1,748,141,795,563,1,4265,1,1,2,1331,3299,843,2609,155,17,13,72,139,4,2,20,2,169,13,19,46,5,39,96,548,29,2,2,1,2,1,2,2,7,4,1,2,2,2,2,2,2,312,41,513,186,1,1,158,3,2,2,2,2,2,4,2,3,3,233,12,5,19,21,23954702,2866027,1146349,28975,338,3,2340,74,540,366,7,95,1781,258',kBL:'01HL'};google.sn='webhp';google.kHL='en';})();(function(){\n",
            "var f=this||self;var h,k=[];function l(a){for(var b;a&&(!a.getAttribute||!(b=a.getAttribute(\"eid\")));)a=a.parentNode;return b||h}function m(a){for(var b=null;a&&(!a.getAttribute||!(b=a.getAttribute(\"leid\")));)a=a.parentNode;return b}\n",
            "function n(a,b,c,d,g){var e=\"\";c||-1!==b.search(\"&ei=\")||(e=\"&ei=\"+l(d),-1===b.search(\"&lei=\")&&(d=m(d))&&(e+=\"&lei=\"+d));d=\"\";!c&&f._cshid&&-1===b.search(\"&cshid=\")&&\"slh\"!==a&&(d=\"&cshid=\"+f._cshid);c=c||\"/\"+(g||\"gen_204\")+\"?atyp=i&ct=\"+a+\"&cad=\"+b+e+\"&zx=\"+Date.now()+d;/^http:/i.test(c)&&\"https:\"===window.location.protocol&&(google.ml&&google.ml(Error(\"a\"),!1,{src:c,glmm:1}),c=\"\");return c};h=google.kEI;google.getEI=l;google.getLEI=m;google.ml=function(){return null};google.log=function(a,b,c,d,g){if(c=n(a,b,c,d,g)){a=new Image;var e=k.length;k[e]=a;a.onerror=a.onload=a.onabort=function(){delete k[e]};a.src=c}};google.logUrl=n;}).call(this);(function(){\n",
            "google.y={};google.sy=[];google.x=function(a,b){if(a)var c=a.id;else{do c=Math.random();while(google.y[c])}google.y[c]=[a,b];return!1};google.sx=function(a){google.sy.push(a)};google.lm=[];google.plm=function(a){google.lm.push.apply(google.lm,a)};google.lq=[];google.load=function(a,b,c){google.lq.push([[a],b,c])};google.loadAll=function(a,b){google.lq.push([a,b])};google.bx=!1;google.lx=function(){};}).call(this);google.f={};(function(){\n",
            "document.documentElement.addEventListener(\"submit\",function(b){var a;if(a=b.target){var c=a.getAttribute(\"data-submitfalse\");a=\"1\"==c||\"q\"==c&&!a.elements.q.value?!0:!1}else a=!1;a&&(b.preventDefault(),b.stopPropagation())},!0);document.documentElement.addEventListener(\"click\",function(b){var a;a:{for(a=b.target;a&&a!=document.documentElement;a=a.parentElement)if(\"A\"==a.tagName){a=\"1\"==a.getAttribute(\"data-nohref\");break a}a=!1}a&&b.preventDefault()},!0);}).call(this);</script><style>#gbar,#guser{font-size:13px;padding-top:1px !important;}#gbar{height:22px}#guser{padding-bottom:7px !important;text-align:right}.gbh,.gbd{border-top:1px solid #c9d7f1;font-size:1px}.gbh{height:0;position:absolute;top:24px;width:100%}@media all{.gb1{height:22px;margin-right:.5em;vertical-align:top}#gbar{float:left}}a.gb1,a.gb4{text-decoration:underline !important}a.gb1,a.gb4{color:#00c !important}.gbi .gb4{color:#dd8e27 !important}.gbf .gb4{color:#900 !important}\n",
            "</style><style>body,td,a,p,.h{font-family:arial,sans-serif}body{margin:0;overflow-y:scroll}#gog{padding:3px 8px 0}td{line-height:.8em}.gac_m td{line-height:17px}form{margin-bottom:20px}.h{color:#1558d6}em{font-weight:bold;font-style:normal}.lst{height:25px;width:496px}.gsfi,.lst{font:18px arial,sans-serif}.gsfs{font:17px arial,sans-serif}.ds{display:inline-box;display:inline-block;margin:3px 0 4px;margin-left:4px}input{font-family:inherit}body{background:#fff;color:#000}a{color:#4b11a8;text-decoration:none}a:hover,a:active{text-decoration:underline}.fl a{color:#1558d6}a:visited{color:#4b11a8}.sblc{padding-top:5px}.sblc a{display:block;margin:2px 0;margin-left:13px;font-size:11px}.lsbb{background:#f8f9fa;border:solid 1px;border-color:#dadce0 #70757a #70757a #dadce0;height:30px}.lsbb{display:block}#WqQANb a{display:inline-block;margin:0 12px}.lsb{background:url(/images/nav_logo229.png) 0 -261px repeat-x;border:none;color:#000;cursor:pointer;height:30px;margin:0;outline:0;font:15px arial,sans-serif;vertical-align:top}.lsb:active{background:#dadce0}.lst:focus{outline:none}</style><script nonce=\"Ag66Rlos0nRgNa3BSa306w==\"></script></head><body bgcolor=\"#fff\"><script nonce=\"Ag66Rlos0nRgNa3BSa306w==\">(function(){var src='/images/nav_logo229.png';var iesg=false;document.body.onload = function(){window.n && window.n();if (document.images){new Image().src=src;}\n",
            "if (!iesg){document.f&&document.f.q.focus();document.gbqf&&document.gbqf.q.focus();}\n",
            "}\n",
            "})();</script><div id=\"mngb\"><div id=gbar><nobr><b class=gb1>Search</b> <a class=gb1 href=\"https://www.google.com/imghp?hl=en&tab=wi\">Images</a> <a class=gb1 href=\"https://maps.google.com/maps?hl=en&tab=wl\">Maps</a> <a class=gb1 href=\"https://play.google.com/?hl=en&tab=w8\">Play</a> <a class=gb1 href=\"https://www.youtube.com/?gl=US&tab=w1\">YouTube</a> <a class=gb1 href=\"https://news.google.com/?tab=wn\">News</a> <a class=gb1 href=\"https://mail.google.com/mail/?tab=wm\">Gmail</a> <a class=gb1 href=\"https://drive.google.com/?tab=wo\">Drive</a> <a class=gb1 style=\"text-decoration:none\" href=\"https://www.google.com/intl/en/about/products?tab=wh\"><u>More</u> &raquo;</a></nobr></div><div id=guser width=100%><nobr><span id=gbn class=gbi></span><span id=gbf class=gbf></span><span id=gbe></span><a href=\"http://www.google.com/history/optout?hl=en\" class=gb4>Web History</a> | <a  href=\"/preferences?hl=en\" class=gb4>Settings</a> | <a target=_top id=gb_70 href=\"https://accounts.google.com/ServiceLogin?hl=en&passive=true&continue=https://www.google.com/&ec=GAZAAQ\" class=gb4>Sign in</a></nobr></div><div class=gbh style=left:0></div><div class=gbh style=right:0></div></div><center><br clear=\"all\" id=\"lgpd\"><div id=\"lga\"><img alt=\"Google\" height=\"92\" src=\"/images/branding/googlelogo/1x/googlelogo_white_background_color_272x92dp.png\" style=\"padding:28px 0 14px\" width=\"272\" id=\"hplogo\"><br><br></div><form action=\"/search\" name=\"f\"><table cellpadding=\"0\" cellspacing=\"0\"><tr valign=\"top\"><td width=\"25%\">&nbsp;</td><td align=\"center\" nowrap=\"\"><input name=\"ie\" value=\"ISO-8859-1\" type=\"hidden\"><input value=\"en\" name=\"hl\" type=\"hidden\"><input name=\"source\" type=\"hidden\" value=\"hp\"><input name=\"biw\" type=\"hidden\"><input name=\"bih\" type=\"hidden\"><div class=\"ds\" style=\"height:32px;margin:4px 0\"><input class=\"lst\" style=\"margin:0;padding:5px 8px 0 6px;vertical-align:top;color:#000\" autocomplete=\"off\" value=\"\" title=\"Google Search\" maxlength=\"2048\" name=\"q\" size=\"57\"></div><br style=\"line-height:0\"><span class=\"ds\"><span class=\"lsbb\"><input class=\"lsb\" value=\"Google Search\" name=\"btnG\" type=\"submit\"></span></span><span class=\"ds\"><span class=\"lsbb\"><input class=\"lsb\" id=\"tsuid1\" value=\"I'm Feeling Lucky\" name=\"btnI\" type=\"submit\"><script nonce=\"Ag66Rlos0nRgNa3BSa306w==\">(function(){var id='tsuid1';document.getElementById(id).onclick = function(){if (this.form.q.value){this.checked = 1;if (this.form.iflsig)this.form.iflsig.disabled = false;}\n",
            "else top.location='/doodles/';};})();</script><input value=\"AINFCbYAAAAAYPV1CBKpp7XwKnBZBpy-WFxfeeRvqmCv\" name=\"iflsig\" type=\"hidden\"></span></span></td><td class=\"fl sblc\" align=\"left\" nowrap=\"\" width=\"25%\"><a href=\"/advanced_search?hl=en&amp;authuser=0\">Advanced search</a></td></tr></table><input id=\"gbv\" name=\"gbv\" type=\"hidden\" value=\"1\"><script nonce=\"Ag66Rlos0nRgNa3BSa306w==\">(function(){\n",
            "var a,b=\"1\";if(document&&document.getElementById)if(\"undefined\"!=typeof XMLHttpRequest)b=\"2\";else if(\"undefined\"!=typeof ActiveXObject){var c,d,e=[\"MSXML2.XMLHTTP.6.0\",\"MSXML2.XMLHTTP.3.0\",\"MSXML2.XMLHTTP\",\"Microsoft.XMLHTTP\"];for(c=0;d=e[c++];)try{new ActiveXObject(d),b=\"2\"}catch(h){}}a=b;if(\"2\"==a&&-1==location.search.indexOf(\"&gbv=2\")){var f=google.gbvu,g=document.getElementById(\"gbv\");g&&(g.value=a);f&&window.setTimeout(function(){location.href=f},0)};}).call(this);</script></form><div id=\"gac_scont\"></div><div style=\"font-size:83%;min-height:3.5em\"><br></div><span id=\"footer\"><div style=\"font-size:10pt\"><div style=\"margin:19px auto;text-align:center\" id=\"WqQANb\"><a href=\"/intl/en/ads/\">Advertising Programs</a><a href=\"/services/\">Business Solutions</a><a href=\"/intl/en/about.html\">About Google</a></div></div><p style=\"font-size:8pt;color:#70757a\">&copy; 2021 - <a href=\"/intl/en/policies/privacy/\">Privacy</a> - <a href=\"/intl/en/policies/terms/\">Terms</a></p></span></center><script nonce=\"Ag66Rlos0nRgNa3BSa306w==\">(function(){window.google.cdo={height:757,width:1440};(function(){\n",
            "var a=window.innerWidth,b=window.innerHeight;if(!a||!b){var c=window.document,d=\"CSS1Compat\"==c.compatMode?c.documentElement:c.body;a=d.clientWidth;b=d.clientHeight}a&&b&&(a!=google.cdo.width||b!=google.cdo.height)&&google.log(\"\",\"\",\"/client_204?&atyp=i&biw=\"+a+\"&bih=\"+b+\"&ei=\"+google.kEI);}).call(this);})();</script> <script nonce=\"Ag66Rlos0nRgNa3BSa306w==\">(function(){google.xjs={ck:'',cs:'',excm:[],pml:false};})();</script>  <script nonce=\"Ag66Rlos0nRgNa3BSa306w==\">(function(){var u='/xjs/_/js/k\\x3dxjs.hp.en_US.u-X60WtIi-Y.O/m\\x3dsb_he,d/am\\x3dAHgCLA/d\\x3d1/ed\\x3d1/rs\\x3dACT90oHH4aIsupOvO3lhHWc-TIx4ptE7pg';\n",
            "var e=this||self,f=function(a){return a};var g;var l=function(a,b){this.g=b===h?a:\"\"};l.prototype.toString=function(){return this.g+\"\"};var h={};function m(){var a=u;google.lx=function(){n(a);google.lx=function(){}};google.bx||google.lx()}\n",
            "function n(a){google.timers&&google.timers.load&&google.tick&&google.tick(\"load\",\"xjsls\");var b=document;var c=\"SCRIPT\";\"application/xhtml+xml\"===b.contentType&&(c=c.toLowerCase());c=b.createElement(c);if(void 0===g){b=null;var k=e.trustedTypes;if(k&&k.createPolicy){try{b=k.createPolicy(\"goog#html\",{createHTML:f,createScript:f,createScriptURL:f})}catch(p){e.console&&e.console.error(p.message)}g=b}else g=b}a=(b=g)?b.createScriptURL(a):a;a=new l(a,h);c.src=a instanceof l&&a.constructor===l?a.g:\"type_error:TrustedResourceUrl\";var d;a=(c.ownerDocument&&c.ownerDocument.defaultView||window).document;(d=(a=null===(d=a.querySelector)||void 0===d?void 0:d.call(a,\"script[nonce]\"))?a.nonce||a.getAttribute(\"nonce\")||\"\":\"\")&&c.setAttribute(\"nonce\",d);document.body.appendChild(c);google.psa=!0};setTimeout(function(){m()},0);})();(function(){window.google.xjsu='/xjs/_/js/k\\x3dxjs.hp.en_US.u-X60WtIi-Y.O/m\\x3dsb_he,d/am\\x3dAHgCLA/d\\x3d1/ed\\x3d1/rs\\x3dACT90oHH4aIsupOvO3lhHWc-TIx4ptE7pg';})();function _DumpException(e){throw e;}\n",
            "function _F_installCss(c){}\n",
            "(function(){google.jl={attn:false,blt:'none',chnk:0,dw:false,emtn:0,end:0,ine:false,lls:'default',pdt:0,rep:0,snet:true,strt:0,ubm:false,uwp:true};})();(function(){var pmc='{\\x22d\\x22:{},\\x22sb_he\\x22:{\\x22agen\\x22:true,\\x22cgen\\x22:true,\\x22client\\x22:\\x22heirloom-hp\\x22,\\x22dh\\x22:true,\\x22dhqt\\x22:true,\\x22ds\\x22:\\x22\\x22,\\x22ffql\\x22:\\x22en\\x22,\\x22fl\\x22:true,\\x22host\\x22:\\x22google.com\\x22,\\x22isbh\\x22:28,\\x22jsonp\\x22:true,\\x22msgs\\x22:{\\x22cibl\\x22:\\x22Clear Search\\x22,\\x22dym\\x22:\\x22Did you mean:\\x22,\\x22lcky\\x22:\\x22I\\\\u0026#39;m Feeling Lucky\\x22,\\x22lml\\x22:\\x22Learn more\\x22,\\x22oskt\\x22:\\x22Input tools\\x22,\\x22psrc\\x22:\\x22This search was removed from your \\\\u003Ca href\\x3d\\\\\\x22/history\\\\\\x22\\\\u003EWeb History\\\\u003C/a\\\\u003E\\x22,\\x22psrl\\x22:\\x22Remove\\x22,\\x22sbit\\x22:\\x22Search by image\\x22,\\x22srch\\x22:\\x22Google Search\\x22},\\x22ovr\\x22:{},\\x22pq\\x22:\\x22\\x22,\\x22refpd\\x22:true,\\x22rfs\\x22:[],\\x22sbas\\x22:\\x220 3px 8px 0 rgba(0,0,0,0.2),0 0 0 1px rgba(0,0,0,0.08)\\x22,\\x22sbpl\\x22:16,\\x22sbpr\\x22:16,\\x22scd\\x22:10,\\x22stok\\x22:\\x22np2T7ssYw3xh7g_BLw1Y_iXx_18\\x22,\\x22uhde\\x22:false}}';google.pmc=JSON.parse(pmc);})();</script>        </body></html>\n"
          ],
          "name": "stdout"
        }
      ]
    },
    {
      "cell_type": "code",
      "metadata": {
        "id": "oqYzaHhLmk_k"
      },
      "source": [
        " from flask import Flask,render_template\n",
        "app=Flask(__name__)\n",
        "print(app)\n",
        "@app.route(\"/\")\n",
        "def main():\n",
        "  return render_template(\"login.html')\n",
        "if__name__==\"__main__\":\n",
        "  app.run(host=\"127.0.0.1\",port=2500)"
      ],
      "execution_count": null,
      "outputs": []
    },
    {
      "cell_type": "markdown",
      "metadata": {
        "id": "bYEXy7nr32ij"
      },
      "source": [
        " Exercise - 13"
      ]
    },
    {
      "cell_type": "markdown",
      "metadata": {
        "id": "jrcNl_hw35Rj"
      },
      "source": [
        " OOP\n",
        "a) Class variables and instance variable and illustration of the self-variable"
      ]
    },
    {
      "cell_type": "markdown",
      "metadata": {
        "id": "UJkttuhL38h0"
      },
      "source": [
        " i) Robot"
      ]
    },
    {
      "cell_type": "markdown",
      "metadata": {
        "id": "1_xAlndn4IP3"
      },
      "source": [
        " ii) ATM Machine"
      ]
    },
    {
      "cell_type": "code",
      "metadata": {
        "colab": {
          "base_uri": "https://localhost:8080/"
        },
        "id": "0h4DHANl4STT",
        "outputId": "2d0be8bc-56c2-4740-a56f-3c54d2fdb6a7"
      },
      "source": [
        " class Robot:\n",
        "    what=\"Machine\"\n",
        "    name=\"Chitti\"\n",
        "    version=1.0\n",
        "    speed=\"1THz\"\n",
        "    memory=\"1ZB\"\n",
        " \n",
        "    def update(upd):\n",
        "        upd.version=2.0\n",
        "        upd.speed=\"2THz\"\n",
        "        upd.memory=\"2ZB\"\n",
        " \n",
        "    def disp(self):\n",
        "        print(\"Myself is a\",robj.what)\n",
        "        print(\"MyName is a\",robj.name)\n",
        "        print(\"Version :\",robj.version)\n",
        "        print(\"Speed : \",robj.speed)\n",
        "        print(\"Memory: \",robj.memory)\n",
        " \n",
        "robj=Robot()\n",
        "robj.disp()\n",
        " \n",
        "print(\"---------------Update---------\")\n",
        "robj.update()\n",
        "robj.disp()"
      ],
      "execution_count": null,
      "outputs": [
        {
          "output_type": "stream",
          "text": [
            "Myself is a Machine\n",
            "MyName is a Chitti\n",
            "Version : 1.0\n",
            "Speed :  1THz\n",
            "Memory:  1ZB\n",
            "---------------Update---------\n",
            "Myself is a Machine\n",
            "MyName is a Chitti\n",
            "Version : 2.0\n",
            "Speed :  2THz\n",
            "Memory:  2ZB\n"
          ],
          "name": "stdout"
        }
      ]
    },
    {
      "cell_type": "code",
      "metadata": {
        "colab": {
          "base_uri": "https://localhost:8080/"
        },
        "id": "cGIBJiFG4cWm",
        "outputId": "e1c0713b-04b6-44b9-c64d-d06c88feb494"
      },
      "source": [
        " class ATM:\n",
        "    def __init__(self):\n",
        "        self.balance=0\n",
        "        print(\"New Account\")\n",
        "        \n",
        "    def enquire(self):\n",
        "        print(\"Balance: \",self.balance)\n",
        "        \n",
        "    def deposit(self):\n",
        "        amount=int(input(\"Enter the Deposit Amount:\"))\n",
        "        self.balance+=amount\n",
        "        self.enquire()\n",
        " \n",
        "    def withdraw(self):\n",
        "        amount=int(input(\"Enter the Withdraw Amount: \"))\n",
        "        if self.balance<amount:\n",
        "            print(\"Insufficient Balance.....!\")\n",
        "        else:\n",
        "            self.balance-=amount\n",
        "            self.enquire()\n",
        " \n",
        "aobj=ATM()\n",
        "while(True):\n",
        "    print(\"*****Menu****\")\n",
        "    print(\"1.Deposit\")\n",
        "    print(\"2.Withdarw\")\n",
        "    print(\"3.Balance\")\n",
        "    print(\"0.Exit\")\n",
        "    ch=int(input(\"Enter Your Choice: \"))\n",
        "    if ch==0:\n",
        "        break\n",
        "    elif ch==1:\n",
        "        aobj.deposit()\n",
        "    elif ch==2:\n",
        "        aobj.withdraw()\n",
        "    elif ch==3:\n",
        "        aobj.enquire()\n",
        "    else:\n",
        "        print(\"Invalid choice:\")\n",
        "        pass"
      ],
      "execution_count": null,
      "outputs": [
        {
          "output_type": "stream",
          "text": [
            "New Account\n",
            "*****Menu****\n",
            "1.Deposit\n",
            "2.Withdarw\n",
            "3.Balance\n",
            "0.Exit\n",
            "Enter Your Choice: 1\n",
            "Enter the Deposit Amount:10000\n",
            "Balance:  10000\n",
            "*****Menu****\n",
            "1.Deposit\n",
            "2.Withdarw\n",
            "3.Balance\n",
            "0.Exit\n",
            "Enter Your Choice: 2\n",
            "Enter the Withdraw Amount: 500\n",
            "Balance:  9500\n",
            "*****Menu****\n",
            "1.Deposit\n",
            "2.Withdarw\n",
            "3.Balance\n",
            "0.Exit\n",
            "Enter Your Choice: 0\n"
          ],
          "name": "stdout"
        }
      ]
    },
    {
      "cell_type": "markdown",
      "metadata": {
        "id": "cmZwlQfw4vLd"
      },
      "source": [
        " Exercise - 14"
      ]
    },
    {
      "cell_type": "markdown",
      "metadata": {
        "id": "yJBBvJYH4wdb"
      },
      "source": [
        " GUI, Graphics"
      ]
    },
    {
      "cell_type": "markdown",
      "metadata": {
        "id": "uvWDD3tO40Na"
      },
      "source": [
        "   1.Write a GUI for an Expression Calculator using tk"
      ]
    },
    {
      "cell_type": "code",
      "metadata": {
        "id": "NcupLZW9tkKE"
      },
      "source": [
        " \n",
        "#14A.\n",
        "from tkinter import *\n",
        "\n",
        "win = Tk() # to create a basic window\n",
        "win.geometry(\"312x324\")  #for the size of the window \n",
        "win.resizable(0, 0)  # to prevent from resizing the window\n",
        "win.title(\"Calculator\")\n",
        "\n",
        "# 'btn_click' Function continuously updates the \n",
        "# input field whenever you enters a number\n",
        "\n",
        "def btn_click(item):\n",
        "    global expression\n",
        "    expression = expression + str(item)\n",
        "    input_text.set(expression)\n",
        "\n",
        "# 'bt_clear' function : used to clear the input field\n",
        "\n",
        "def bt_clear(): \n",
        "    global expression \n",
        "    expression = \"\"\n",
        "    input_text.set(\"\")\n",
        "\n",
        "# 'bt_equal':calculates the expression present in input field\n",
        "\n",
        "def bt_equal():\n",
        "    global expression\n",
        "    result = str(eval(expression)) # 'eval':This function is used to evaluates the string expression directly\n",
        "    input_text.set(result)\n",
        "    expression = \"\"\n",
        "\n",
        "expression = \"\"\n",
        "\n",
        "# 'StringVar()' :used to get the instance of input field\n",
        "\n",
        "input_text = StringVar()\n",
        "\n",
        "# creating a frame for the input field\n",
        "\n",
        "input_frame = Frame(win, width=312, height=50, bd=0, highlightbackground=\"black\", highlightcolor=\"black\", highlightthickness=2)\n",
        "\n",
        "input_frame.pack(side=TOP)\n",
        "\n",
        "#create a input field inside the 'Frame'\n",
        "\n",
        "input_field = Entry(input_frame, font=('arial', 18, 'bold'), textvariable=input_text, width=50, bg=\"#eee\", bd=0, justify=RIGHT)\n",
        "\n",
        "input_field.grid(row=0, column=0)\n",
        "\n",
        "input_field.pack(ipady=10)\n",
        "# 'ipady' is internal padding to increase the height of input field\n",
        "\n",
        "#creating another 'Frame' for the button below the 'input_frame'\n",
        "\n",
        "btns_frame = Frame(win, width=312, height=272.5, bg=\"grey\")\n",
        "\n",
        "btns_frame.pack()\n",
        "\n",
        "# first row\n",
        "\n",
        "clear = Button(btns_frame, text = \"C\", fg = \"black\", width = 32, height = 3, bd = 0, bg = \"#eee\", cursor = \"hand2\", command = lambda: bt_clear()).grid(row = 0, column = 0, columnspan = 3, padx = 1, pady = 1)\n",
        "\n",
        "divide = Button(btns_frame, text = \"/\", fg = \"black\", width = 10, height = 3, bd = 0, bg = \"#eee\", cursor = \"hand2\", command = lambda: btn_click(\"/\")).grid(row = 0, column = 3, padx = 1, pady = 1)\n",
        "\n",
        "# second row\n",
        "\n",
        "seven = Button(btns_frame, text = \"7\", fg = \"black\", width = 10, height = 3, bd = 0, bg = \"#fff\", cursor = \"hand2\", command = lambda: btn_click(7)).grid(row = 1, column = 0, padx = 1, pady = 1)\n",
        "\n",
        "eight = Button(btns_frame, text = \"8\", fg = \"black\", width = 10, height = 3, bd = 0, bg = \"#fff\", cursor = \"hand2\", command = lambda: btn_click(8)).grid(row = 1, column = 1, padx = 1, pady = 1)\n",
        "\n",
        "nine = Button(btns_frame, text = \"9\", fg = \"black\", width = 10, height = 3, bd = 0, bg = \"#fff\", cursor = \"hand2\", command = lambda: btn_click(9)).grid(row = 1, column = 2, padx = 1, pady = 1)\n",
        "\n",
        "multiply = Button(btns_frame, text = \"\", fg = \"black\", width = 10, height = 3, bd = 0, bg = \"#eee\", cursor = \"hand2\", command = lambda: btn_click(\"\")).grid(row = 1, column = 3, padx = 1, pady = 1)\n",
        "\n",
        "# third row\n",
        "\n",
        "four = Button(btns_frame, text = \"4\", fg = \"black\", width = 10, height = 3, bd = 0, bg = \"#fff\", cursor = \"hand2\", command = lambda: btn_click(4)).grid(row = 2, column = 0, padx = 1, pady = 1)\n",
        "\n",
        "five = Button(btns_frame, text = \"5\", fg = \"black\", width = 10, height = 3, bd = 0, bg = \"#fff\", cursor = \"hand2\", command = lambda: btn_click(5)).grid(row = 2, column = 1, padx = 1, pady = 1)\n",
        "\n",
        "six = Button(btns_frame, text = \"6\", fg = \"black\", width = 10, height = 3, bd = 0, bg = \"#fff\", cursor = \"hand2\", command = lambda: btn_click(6)).grid(row = 2, column = 2, padx = 1, pady = 1)\n",
        "\n",
        "minus = Button(btns_frame, text = \"-\", fg = \"black\", width = 10, height = 3, bd = 0, bg = \"#eee\", cursor = \"hand2\", command = lambda: btn_click(\"-\")).grid(row = 2, column = 3, padx = 1, pady = 1)\n",
        "\n",
        "# fourth row\n",
        "\n",
        "one = Button(btns_frame, text = \"1\", fg = \"black\", width = 10, height = 3, bd = 0, bg = \"#fff\", cursor = \"hand2\", command = lambda: btn_click(1)).grid(row = 3, column = 0, padx = 1, pady = 1)\n",
        "\n",
        "two = Button(btns_frame, text = \"2\", fg = \"black\", width = 10, height = 3, bd = 0, bg = \"#fff\", cursor = \"hand2\", command = lambda: btn_click(2)).grid(row = 3, column = 1, padx = 1, pady = 1)\n",
        "\n",
        "three = Button(btns_frame, text = \"3\", fg = \"black\", width = 10, height = 3, bd = 0, bg = \"#fff\", cursor = \"hand2\", command = lambda: btn_click(3)).grid(row = 3, column = 2, padx = 1, pady = 1)\n",
        "\n",
        "plus = Button(btns_frame, text = \"+\", fg = \"black\", width = 10, height = 3, bd = 0, bg = \"#eee\", cursor = \"hand2\", command = lambda: btn_click(\"+\")).grid(row = 3, column = 3, padx = 1, pady = 1)\n",
        "\n",
        "# fifth row\n",
        "\n",
        "zero = Button(btns_frame, text = \"0\", fg = \"black\", width = 21, height = 3, bd = 0, bg = \"#fff\", cursor = \"hand2\", command = lambda: btn_click(0)).grid(row = 4, column = 0, columnspan = 2, padx = 1, pady = 1)\n",
        "\n",
        "point = Button(btns_frame, text = \".\", fg = \"black\", width = 10, height = 3, bd = 0, bg = \"#eee\", cursor = \"hand2\", command = lambda: btn_click(\".\")).grid(row = 4, column = 2, padx = 1, pady = 1)\n",
        "\n",
        "equals = Button(btns_frame, text = \"=\", fg = \"black\", width = 10, height = 3, bd = 0, bg = \"#eee\", cursor = \"hand2\", command = lambda: bt_equal()).grid(row = 4, column = 3, padx = 1, pady = 1)\n",
        "\n",
        "win.mainloop()"
      ],
      "execution_count": null,
      "outputs": []
    },
    {
      "cell_type": "markdown",
      "metadata": {
        "id": "nKI1Z6hH48FB"
      },
      "source": [
        "   2.Write a program to implement the following figures using turtle"
      ]
    },
    {
      "cell_type": "code",
      "metadata": {
        "id": "jYxuFjRH5DVc"
      },
      "source": [
        " import turtle\n",
        "c=[\"red\",\"green\",\"blue\"]\n",
        "i=0\n",
        "turtle.pensize(5)\n",
        " \n",
        "for angle in range(0,360,30):\n",
        "    if i>2:\n",
        "        i=0\n",
        "    turtle.color(c[i])\n",
        "    turtle.seth(angle)\n",
        "    turtle.circle(50)\n",
        "    i+=1"
      ],
      "execution_count": null,
      "outputs": []
    },
    {
      "cell_type": "code",
      "metadata": {
        "id": "Fm2g0NOr5EXg"
      },
      "source": [
        " import turtle\n",
        "turtle.pensize(1)\n",
        " \n",
        "for i in range(36):\n",
        "    for j in range(4):\n",
        "        turtle.forward(70)\n",
        "        turtle.left(90)\n",
        "    turtle.left(10)"
      ],
      "execution_count": null,
      "outputs": []
    },
    {
      "cell_type": "markdown",
      "metadata": {
        "id": "ePMoeKdz5H0F"
      },
      "source": [
        " Exercise - 15 - Testing"
      ]
    },
    {
      "cell_type": "markdown",
      "metadata": {
        "id": "V9bv9lxP5KXO"
      },
      "source": [
        " a) Write a test-case to check the function even numbers which return True on passing a list of all even numbers"
      ]
    },
    {
      "cell_type": "markdown",
      "metadata": {
        "id": "l9qddFuI5NEV"
      },
      "source": [
        " b) Write a test-case to check the function reverse string which returns the reversed string"
      ]
    },
    {
      "cell_type": "code",
      "metadata": {
        "colab": {
          "base_uri": "https://localhost:8080/"
        },
        "id": "UYrVL0yW5V5f",
        "outputId": "243fbd1a-7dda-4a76-d49b-1e585be8304a"
      },
      "source": [
        " \n",
        "def evnNo(num):\n",
        "    stat=True\n",
        " \n",
        "    for i in num:\n",
        "        if i%2 ==1:\n",
        "            stat=False\n",
        "            break\n",
        "    return stat\n",
        "        \n",
        "numbers=[]\n",
        "for i in range(0,2):\n",
        "    numbers.append(int(input(\"Enter a value\")))\n",
        "print(evnNo(numbers))"
      ],
      "execution_count": null,
      "outputs": [
        {
          "output_type": "stream",
          "text": [
            "Enter a value4\n",
            "Enter a value8\n",
            "True\n"
          ],
          "name": "stdout"
        }
      ]
    },
    {
      "cell_type": "code",
      "metadata": {
        "id": "e_BQuaWi5gvk",
        "colab": {
          "base_uri": "https://localhost:8080/"
        },
        "outputId": "edd0a060-351c-4da5-cbfc-103b9cb7ba17"
      },
      "source": [
        " def rev_str(st):\n",
        "    temp=\"\"\n",
        "    for i in range(len(st)-1,-1,-1):\n",
        "        temp+=st[i]\n",
        "    return temp\n",
        " \n",
        "st=\"swarnandhra\"\n",
        "print(\"Given String is: \",st)\n",
        "print(\"Reverse String is: \",st[::-1])\n",
        "print(\"Reverse is: \",rev_str(st))"
      ],
      "execution_count": null,
      "outputs": [
        {
          "output_type": "stream",
          "text": [
            "Given String is:  swarnandhra\n",
            "Reverse String is:  arhdnanraws\n",
            "Reverse is:  arhdnanraws\n"
          ],
          "name": "stdout"
        }
      ]
    },
    {
      "cell_type": "markdown",
      "metadata": {
        "id": "cvpL0vxJmxwq"
      },
      "source": [
        " Exercise - 16 - Advanced"
      ]
    },
    {
      "cell_type": "markdown",
      "metadata": {
        "id": "6AoS9MpCmy0E"
      },
      "source": [
        " a) Build any one classical data structure."
      ]
    },
    {
      "cell_type": "markdown",
      "metadata": {
        "id": "EdQ3iTtRm2kG"
      },
      "source": [
        " b) Write a program to solve knapsack problem"
      ]
    },
    {
      "cell_type": "code",
      "metadata": {
        "id": "4_xyRlDHm83a"
      },
      "source": [
        " import sys\n",
        "a=[]\n",
        "while True: \n",
        "print(\"1.PUSH 2.POP 3.DISPLAY 4.EXIT\")\n",
        " ch=int(input(\"Enter Your Choice: \"))\n",
        "if ch==1:\n",
        "    ele=int(input(\"Enter element: \"))\n",
        "    a.append(ele).\n",
        "    print (\"Inserted\") \n",
        "elif ch==2:\n",
        "  if len(a)==0: \n",
        "     print(\"\\t STACK IS EMPTY\")\n",
        "  else:\n",
        "     print(\"Deleted element is: \", a[len(a)-1])\n",
        "     a.remove (a [len (a) -1])\n",
        "elif ch==3:\n",
        "  if len(a)==0:\n",
        "     print(\"\\t STACK IS EMPTY\")\n",
        "  else:\n",
        "     print(\"\\tThe Elements in Stack is: \") \n",
        "     for i in reversed(a):\n",
        "       print (i)\n",
        "elif ch==4: \n",
        "   sys.exit()\n",
        "else: \n",
        "   print(\"\\tINVALID CHOICE\")"
      ],
      "execution_count": null,
      "outputs": []
    },
    {
      "cell_type": "code",
      "metadata": {
        "id": "nVtAsteJnCvO"
      },
      "source": [
        " def knapSack(W,wt,val,n): \n",
        " K=[[0 for x in range(W+1)] for x in range(n+1)]\n",
        "for i in range(n+1):\n",
        "  for w in range(W+1):\n",
        "   if i==0orw==0:\n",
        "      K[i][w]=0\n",
        "   elif wt[i-1]<=w:\n",
        "      K[i][w]=max(val[i-1]+ K[i-1][w-wt[i-1]],K[i-1][w]) \n",
        "   else:\n",
        "      K[i][w]=K[i-1][w]\n",
        "return K[n][W]\n",
        "val= [5,3,4]\n",
        "wt=[3,2,1]\n",
        "W=5 \n",
        "n=len(val)\n",
        "print(\"Maximum value knapsack of capacity W: \",knapSack(W, wt, val, n))"
      ],
      "execution_count": null,
      "outputs": []
    },
    {
      "cell_type": "markdown",
      "metadata": {
        "id": "zgl5gp6TnESS"
      },
      "source": [
        " Exercise - 17-Data Analysis"
      ]
    },
    {
      "cell_type": "markdown",
      "metadata": {
        "id": "J6rUlSIBnHNi"
      },
      "source": [
        " Data analysis or manipulation using the following packages"
      ]
    },
    {
      "cell_type": "markdown",
      "metadata": {
        "id": "42ppbFZ7nKgV"
      },
      "source": [
        " a) Numpy b) Pandas"
      ]
    },
    {
      "cell_type": "markdown",
      "metadata": {
        "id": "H8bAaj2HnNaW"
      },
      "source": [
        " Exercise - 17 - Advanced"
      ]
    },
    {
      "cell_type": "markdown",
      "metadata": {
        "id": "0yN655kCnQZD"
      },
      "source": [
        " Data analysis or manipulation using the following packages"
      ]
    },
    {
      "cell_type": "markdown",
      "metadata": {
        "id": "GeFmi8h3nTYQ"
      },
      "source": [
        " a) Scipy b) matplotlib"
      ]
    },
    {
      "cell_type": "code",
      "metadata": {
        "colab": {
          "base_uri": "https://localhost:8080/"
        },
        "id": "k8a4TaBHnV3P",
        "outputId": "7c0d4fbe-692f-4d0e-fe44-eb67e35e904a"
      },
      "source": [
        " import sys\n",
        " \n",
        "print('Python:{}'.format(sys.version))\n",
        " \n",
        "#scipy\n",
        " \n",
        "import scipy\n",
        "print('scipy: {}'.format(scipy.__version__))\n",
        " \n",
        "#numpy \n",
        " \n",
        "import numpy\n",
        "print('numpy:{}'.format(numpy.__version__))\n",
        " \n",
        "#matplotlib \n",
        " \n",
        "import matplotlib\n",
        "print('matplotlib:{}'.format(matplotlib.__version__))\n",
        " \n",
        "#pandas \n",
        " \n",
        "import pandas\n",
        "print('pandas:{}'.format(pandas. __version__))\n",
        " \n",
        "#scikit-learn\n",
        " \n",
        "import sklearn\n",
        "print('sklearn:{}'.format(sklearn.__version__))\n",
        " \n",
        "import seaborn\n",
        "print('seaborn: {}'.format(seaborn.__version__)) \n",
        " \n",
        "import urllib\n",
        "print('urlib:{}'.format(urllib.__name__)) \n",
        " \n",
        "import csv\n",
        "print('csv: {}'.format(csv.__version__))"
      ],
      "execution_count": null,
      "outputs": [
        {
          "output_type": "stream",
          "text": [
            "Python:3.7.11 (default, Jul  3 2021, 18:01:19) \n",
            "[GCC 7.5.0]\n",
            "scipy: 1.4.1\n",
            "numpy:1.19.5\n",
            "matplotlib:3.2.2\n",
            "pandas:1.1.5\n",
            "sklearn:0.22.2.post1\n",
            "seaborn: 0.11.1\n",
            "urlib:urllib\n",
            "csv: 1.0\n"
          ],
          "name": "stdout"
        }
      ]
    }
  ]
}